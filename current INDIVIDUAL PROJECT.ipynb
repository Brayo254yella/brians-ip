{
 "cells": [
  {
   "cell_type": "code",
   "execution_count": 11,
   "metadata": {},
   "outputs": [
    {
     "name": "stdout",
     "output_type": "stream",
     "text": [
      "enter total number of minutes used in the month :80\n",
      "enter total number of text messages used in the month :500\n",
      "The additional minutes used are  : 60.0  for the month ended\n",
      "The additional texts used are : 480.0  for the month ended\n",
      "ksh :1380.3999999999999\n"
     ]
    }
   ],
   "source": [
    "#prompting the machine to take data of total minutes and texts\n",
    "minutes=float(input('enter total number of minutes used in the month :'))\n",
    "sms=float(input('enter total number of text messages used in the month :'))\n",
    "#assigning variables\n",
    "additional_sms=sms-20\n",
    "additional_min=minutes-20\n",
    "taxes=1.16\n",
    "base_charge=50\n",
    "#defining our function\n",
    "def monthly_bill(additional_sms,additional_min):\n",
    "    #perfoming the necessary calculations\n",
    "    cost=(base_charge+(additional_min*3)+(additional_sms*2))\n",
    "    net_cost=cost*taxes\n",
    "    return print(\"ksh :\" + str(net_cost))\n",
    "print(\"The additional minutes used are  : \" + str(additional_min)+\"  for the month ended\")\n",
    "print(\"The additional texts used are : \" + str(additional_sms) + \"  for the month ended\")\n",
    "#calling back our function\n",
    "monthly_bill(additional_sms,additional_min)"
   ]
  },
  {
   "cell_type": "code",
   "execution_count": null,
   "metadata": {},
   "outputs": [],
   "source": []
  }
 ],
 "metadata": {
  "kernelspec": {
   "display_name": "Python 3",
   "language": "python",
   "name": "python3"
  },
  "language_info": {
   "codemirror_mode": {
    "name": "ipython",
    "version": 3
   },
   "file_extension": ".py",
   "mimetype": "text/x-python",
   "name": "python",
   "nbconvert_exporter": "python",
   "pygments_lexer": "ipython3",
   "version": "3.7.6"
  }
 },
 "nbformat": 4,
 "nbformat_minor": 4
}
